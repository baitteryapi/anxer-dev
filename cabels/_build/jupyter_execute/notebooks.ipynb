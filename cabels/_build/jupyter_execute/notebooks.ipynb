{
 "cells": [
  {
   "cell_type": "code",
   "execution_count": 1,
   "metadata": {
    "id": "OO9FZOFAgg8a"
   },
   "outputs": [],
   "source": [
    "import requests\n",
    "import json\n",
    "import pandas as pd\n",
    "import matplotlib.pyplot as plt\n",
    "import numpy as np\n",
    "\n"
   ]
  },
  {
   "cell_type": "code",
   "execution_count": 2,
   "metadata": {
    "id": "UMtNRNXxgg8b"
   },
   "outputs": [],
   "source": [
    "URL = 'https://anxerenergyapi-2rh6grnahq-ew.a.run.app/qf/demo'\n",
    "END_POINT_RUL = 'predict_remaining_cycles_from_one_cycle'\n",
    "END_POINT_SOH = 'predict_soh_from_one_cycle'"
   ]
  },
  {
   "cell_type": "markdown",
   "metadata": {
    "id": "74qtnCLwgg8b"
   },
   "source": [
    "# Data preperation\n",
    "\n",
    "#### REST API Input Explanation\n",
    "\n",
    "### `time_steps` : list[float]\n",
    "- Description: List of time intervals in seconds.\n",
    "- Example: `[30.0, 60.01, 90.12]`\n",
    "- Note: Time steps should be approximately 30 seconds.\n",
    "\n",
    "### `voltage_steps` : list[float]\n",
    "- Description: List of voltage values corresponding to the specified time steps.\n",
    "- Example: `[3.8, 4.0, 4.2]`\n",
    "- Note: For Constant Current (CC) charging, expect voltage to rise up to 4.2V.\n",
    "\n",
    "### `current_steps` : list[float]\n",
    "- Description: List of current values corresponding to the specified time steps.\n",
    "- Example: `[1.0, 1.0, 0.0]`\n",
    "- Note: Current values for charging and discharging.\n",
    "\n",
    "### `charging_stage` : list[float]\n",
    "- Description: List containing values indicating the charging stage.\n",
    "    - `-1`: Discharge\n",
    "    - `0`: Charging with constant voltage\n",
    "    - `1`: Charging with constant current\n",
    "- Example: `[1, 0, -1]`\n",
    "- Note: Expect voltage range between 4.2V to 2.75V for discharge.\n",
    "\n",
    "### Additional Notes:\n",
    "- The model is trained on a battery type LCO.\n",
    "- The battery is cycled at a constant current of 1C.\n",
    "- For Constant Current (CC) charging, expect the voltage to approximately rise up to 4.2V.\n",
    "- For discharge, expect the voltage range between 4.2V to 2.75V.\n"
   ]
  },
  {
   "cell_type": "code",
   "execution_count": 3,
   "metadata": {
    "colab": {
     "base_uri": "https://localhost:8080/"
    },
    "id": "CYdFPMeugjIk",
    "outputId": "a507129c-e98c-46df-d195-ad9f6963d818"
   },
   "outputs": [
    {
     "name": "stdout",
     "output_type": "stream",
     "text": [
      "--2023-11-14 15:08:20--  https://raw.githubusercontent.com/krishnakantsingh14/AnxerApiPublic/main/demo1.csv\r\n",
      "Resolving raw.githubusercontent.com (raw.githubusercontent.com)... 185.199.110.133, 185.199.111.133, 185.199.108.133, ...\r\n",
      "Connecting to raw.githubusercontent.com (raw.githubusercontent.com)|185.199.110.133|:443... connected.\r\n"
     ]
    },
    {
     "name": "stdout",
     "output_type": "stream",
     "text": [
      "HTTP request sent, awaiting response... "
     ]
    },
    {
     "name": "stdout",
     "output_type": "stream",
     "text": [
      "200 OK\r\n",
      "Length: 21145 (21K) [text/plain]\r\n",
      "Saving to: ‘demo1.csv’\r\n",
      "\r\n",
      "\r",
      "demo1.csv             0%[                    ]       0  --.-KB/s               \r",
      "demo1.csv           100%[===================>]  20,65K  --.-KB/s    in 0,001s  \r\n",
      "\r\n",
      "2023-11-14 15:08:20 (13,9 MB/s) - ‘demo1.csv’ saved [21145/21145]\r\n",
      "\r\n"
     ]
    },
    {
     "name": "stdout",
     "output_type": "stream",
     "text": [
      "--2023-11-14 15:08:21--  https://raw.githubusercontent.com/krishnakantsingh14/AnxerApiPublic/main/demo2.csv\r\n",
      "Resolving raw.githubusercontent.com (raw.githubusercontent.com)... 185.199.109.133, 185.199.108.133, 185.199.111.133, ...\r\n",
      "Connecting to raw.githubusercontent.com (raw.githubusercontent.com)|185.199.109.133|:443... connected.\r\n",
      "HTTP request sent, awaiting response... "
     ]
    },
    {
     "name": "stdout",
     "output_type": "stream",
     "text": [
      "200 OK\r\n",
      "Length: 18762 (18K) [text/plain]\r\n",
      "Saving to: ‘demo2.csv’\r\n",
      "\r\n",
      "\r",
      "demo2.csv             0%[                    ]       0  --.-KB/s               \r",
      "demo2.csv           100%[===================>]  18,32K  --.-KB/s    in 0,002s  \r\n",
      "\r\n",
      "2023-11-14 15:08:21 (10,6 MB/s) - ‘demo2.csv’ saved [18762/18762]\r\n",
      "\r\n"
     ]
    },
    {
     "name": "stdout",
     "output_type": "stream",
     "text": [
      "--2023-11-14 15:08:22--  https://raw.githubusercontent.com/krishnakantsingh14/AnxerApiPublic/main/demo3.csv\r\n",
      "Resolving raw.githubusercontent.com (raw.githubusercontent.com)... 185.199.109.133, 185.199.108.133, 185.199.111.133, ...\r\n",
      "Connecting to raw.githubusercontent.com (raw.githubusercontent.com)|185.199.109.133|:443... connected.\r\n"
     ]
    },
    {
     "name": "stdout",
     "output_type": "stream",
     "text": [
      "HTTP request sent, awaiting response... "
     ]
    },
    {
     "name": "stdout",
     "output_type": "stream",
     "text": [
      "200 OK\r\n",
      "Length: 17952 (18K) [text/plain]\r\n",
      "Saving to: ‘demo3.csv’\r\n",
      "\r\n",
      "\r",
      "demo3.csv             0%[                    ]       0  --.-KB/s               \r",
      "demo3.csv           100%[===================>]  17,53K  --.-KB/s    in 0,003s  \r\n",
      "\r\n",
      "2023-11-14 15:08:22 (6,15 MB/s) - ‘demo3.csv’ saved [17952/17952]\r\n",
      "\r\n"
     ]
    }
   ],
   "source": [
    "!wget https://raw.githubusercontent.com/krishnakantsingh14/AnxerApiPublic/main/demo1.csv\n",
    "!wget https://raw.githubusercontent.com/krishnakantsingh14/AnxerApiPublic/main/demo2.csv\n",
    "!wget https://raw.githubusercontent.com/krishnakantsingh14/AnxerApiPublic/main/demo3.csv\n"
   ]
  },
  {
   "cell_type": "code",
   "execution_count": 4,
   "metadata": {
    "colab": {
     "base_uri": "https://localhost:8080/",
     "height": 424
    },
    "id": "GqFG65k9lMHo",
    "outputId": "e88ba0e8-b59a-447e-d7a8-e41791a785a0"
   },
   "outputs": [
    {
     "ename": "NameError",
     "evalue": "name 'df' is not defined",
     "output_type": "error",
     "traceback": [
      "\u001b[0;31m---------------------------------------------------------------------------\u001b[0m",
      "\u001b[0;31mNameError\u001b[0m                                 Traceback (most recent call last)",
      "Cell \u001b[0;32mIn[4], line 1\u001b[0m\n\u001b[0;32m----> 1\u001b[0m \u001b[43mdf\u001b[49m[::\u001b[38;5;241m2\u001b[39m]\n",
      "\u001b[0;31mNameError\u001b[0m: name 'df' is not defined"
     ]
    }
   ],
   "source": [
    "df[::2]"
   ]
  },
  {
   "cell_type": "code",
   "execution_count": null,
   "metadata": {
    "colab": {
     "base_uri": "https://localhost:8080/"
    },
    "id": "rc2fMpZBgg8c",
    "outputId": "8550fce9-0c76-4938-f5c4-b9668200b339"
   },
   "outputs": [
    {
     "name": "stdout",
     "output_type": "stream",
     "text": [
      "============================== 2 ==============================\n",
      "Remaining useful cycles: 596\n",
      "State of Health: 98 %\n",
      "============================== 7 ==============================\n",
      "Remaining useful cycles: 596\n",
      "State of Health: 98 %\n",
      "============================== 12 ==============================\n",
      "Remaining useful cycles: 596\n",
      "State of Health: 98 %\n",
      "============================== 17 ==============================\n",
      "Remaining useful cycles: 596\n",
      "State of Health: 98 %\n",
      "============================== 22 ==============================\n",
      "Remaining useful cycles: 592\n",
      "State of Health: 99 %\n",
      "============================== 27 ==============================\n",
      "Remaining useful cycles: 592\n",
      "State of Health: 99 %\n",
      "============================== 32 ==============================\n",
      "Remaining useful cycles: 592\n",
      "State of Health: 99 %\n",
      "============================== 37 ==============================\n",
      "Remaining useful cycles: 592\n",
      "State of Health: 98 %\n",
      "============================== 42 ==============================\n",
      "Remaining useful cycles: 591\n",
      "State of Health: 98 %\n",
      "============================== 47 ==============================\n",
      "Remaining useful cycles: 592\n",
      "State of Health: 98 %\n",
      "============================== 52 ==============================\n",
      "Remaining useful cycles: 596\n",
      "State of Health: 98 %\n",
      "============================== 57 ==============================\n",
      "Remaining useful cycles: 592\n",
      "State of Health: 98 %\n",
      "============================== 62 ==============================\n",
      "Remaining useful cycles: 596\n",
      "State of Health: 98 %\n",
      "============================== 67 ==============================\n",
      "Remaining useful cycles: 596\n",
      "State of Health: 98 %\n",
      "============================== 72 ==============================\n",
      "Remaining useful cycles: 596\n",
      "State of Health: 98 %\n",
      "============================== 77 ==============================\n",
      "Remaining useful cycles: 581\n",
      "State of Health: 98 %\n",
      "============================== 82 ==============================\n",
      "Remaining useful cycles: 584\n",
      "State of Health: 98 %\n",
      "============================== 87 ==============================\n",
      "Remaining useful cycles: 594\n",
      "State of Health: 98 %\n",
      "============================== 92 ==============================\n",
      "Remaining useful cycles: 596\n",
      "State of Health: 98 %\n",
      "============================== 97 ==============================\n",
      "Remaining useful cycles: 592\n",
      "State of Health: 98 %\n"
     ]
    }
   ],
   "source": [
    "df_ = pd.read_csv('demo1.csv')\n",
    "for i in range(2,100,5):\n",
    "    df = df_.drop(np.random.randint(1,300, i))\n",
    "    df = df[::2]\n",
    "    print('='*30, i, '='*30)\n",
    "    input_dict = {\n",
    "    'time_steps': df['Test_Time(s)'].values.tolist(),\n",
    "    'voltage_steps': df['Voltage(V)'].values.tolist(),\n",
    "    'current_steps': df['Current(A)'].values.tolist(),\n",
    "    'charging_stage': df['charging_stage'].values.tolist(),\n",
    "    # 'internal_resistance': [0.1]\n",
    "    }\n",
    "    r = requests.post(f'{URL}/{END_POINT_RUL}', json=input_dict)\n",
    "    print('Remaining useful cycles:', int(r.json()['cycles']))\n",
    "    r = requests.post(f'{URL}/{END_POINT_SOH}', json=input_dict)\n",
    "    soh = r.json()['SOH']\n",
    "    print(f'State of Health: {int(soh*100)} %')"
   ]
  },
  {
   "cell_type": "code",
   "execution_count": null,
   "metadata": {
    "colab": {
     "base_uri": "https://localhost:8080/",
     "height": 424
    },
    "id": "Rax3nwfngg8c",
    "outputId": "ed267f0c-1930-4f39-a806-70ada47da54a"
   },
   "outputs": [
    {
     "data": {
      "text/html": [
       "\n",
       "  <div id=\"df-eb8f1b65-0c3a-4e73-8194-af9579d1a5e8\" class=\"colab-df-container\">\n",
       "    <div>\n",
       "<style scoped>\n",
       "    .dataframe tbody tr th:only-of-type {\n",
       "        vertical-align: middle;\n",
       "    }\n",
       "\n",
       "    .dataframe tbody tr th {\n",
       "        vertical-align: top;\n",
       "    }\n",
       "\n",
       "    .dataframe thead th {\n",
       "        text-align: right;\n",
       "    }\n",
       "</style>\n",
       "<table border=\"1\" class=\"dataframe\">\n",
       "  <thead>\n",
       "    <tr style=\"text-align: right;\">\n",
       "      <th></th>\n",
       "      <th>Voltage(V)</th>\n",
       "      <th>Current(A)</th>\n",
       "      <th>Test_Time(s)</th>\n",
       "      <th>charging_stage</th>\n",
       "    </tr>\n",
       "  </thead>\n",
       "  <tbody>\n",
       "    <tr>\n",
       "      <th>0</th>\n",
       "      <td>3.627381</td>\n",
       "      <td>0.550319</td>\n",
       "      <td>150.093287</td>\n",
       "      <td>1</td>\n",
       "    </tr>\n",
       "    <tr>\n",
       "      <th>5</th>\n",
       "      <td>3.752232</td>\n",
       "      <td>0.550138</td>\n",
       "      <td>300.169694</td>\n",
       "      <td>1</td>\n",
       "    </tr>\n",
       "    <tr>\n",
       "      <th>11</th>\n",
       "      <td>3.794173</td>\n",
       "      <td>0.550138</td>\n",
       "      <td>480.260304</td>\n",
       "      <td>1</td>\n",
       "    </tr>\n",
       "    <tr>\n",
       "      <th>16</th>\n",
       "      <td>3.799031</td>\n",
       "      <td>0.549958</td>\n",
       "      <td>630.336562</td>\n",
       "      <td>1</td>\n",
       "    </tr>\n",
       "    <tr>\n",
       "      <th>23</th>\n",
       "      <td>3.811338</td>\n",
       "      <td>0.550138</td>\n",
       "      <td>840.442511</td>\n",
       "      <td>1</td>\n",
       "    </tr>\n",
       "    <tr>\n",
       "      <th>...</th>\n",
       "      <td>...</td>\n",
       "      <td>...</td>\n",
       "      <td>...</td>\n",
       "      <td>...</td>\n",
       "    </tr>\n",
       "    <tr>\n",
       "      <th>342</th>\n",
       "      <td>3.499454</td>\n",
       "      <td>-1.099536</td>\n",
       "      <td>12390.711885</td>\n",
       "      <td>-1</td>\n",
       "    </tr>\n",
       "    <tr>\n",
       "      <th>347</th>\n",
       "      <td>3.472087</td>\n",
       "      <td>-1.099536</td>\n",
       "      <td>12540.787770</td>\n",
       "      <td>-1</td>\n",
       "    </tr>\n",
       "    <tr>\n",
       "      <th>352</th>\n",
       "      <td>3.430146</td>\n",
       "      <td>-1.099536</td>\n",
       "      <td>12690.863698</td>\n",
       "      <td>-1</td>\n",
       "    </tr>\n",
       "    <tr>\n",
       "      <th>357</th>\n",
       "      <td>3.323269</td>\n",
       "      <td>-1.099716</td>\n",
       "      <td>12840.939581</td>\n",
       "      <td>-1</td>\n",
       "    </tr>\n",
       "    <tr>\n",
       "      <th>362</th>\n",
       "      <td>2.790992</td>\n",
       "      <td>-1.099536</td>\n",
       "      <td>12987.952847</td>\n",
       "      <td>-1</td>\n",
       "    </tr>\n",
       "  </tbody>\n",
       "</table>\n",
       "<p>66 rows × 4 columns</p>\n",
       "</div>\n",
       "    <div class=\"colab-df-buttons\">\n",
       "\n",
       "  <div class=\"colab-df-container\">\n",
       "    <button class=\"colab-df-convert\" onclick=\"convertToInteractive('df-eb8f1b65-0c3a-4e73-8194-af9579d1a5e8')\"\n",
       "            title=\"Convert this dataframe to an interactive table.\"\n",
       "            style=\"display:none;\">\n",
       "\n",
       "  <svg xmlns=\"http://www.w3.org/2000/svg\" height=\"24px\" viewBox=\"0 -960 960 960\">\n",
       "    <path d=\"M120-120v-720h720v720H120Zm60-500h600v-160H180v160Zm220 220h160v-160H400v160Zm0 220h160v-160H400v160ZM180-400h160v-160H180v160Zm440 0h160v-160H620v160ZM180-180h160v-160H180v160Zm440 0h160v-160H620v160Z\"/>\n",
       "  </svg>\n",
       "    </button>\n",
       "\n",
       "  <style>\n",
       "    .colab-df-container {\n",
       "      display:flex;\n",
       "      gap: 12px;\n",
       "    }\n",
       "\n",
       "    .colab-df-convert {\n",
       "      background-color: #E8F0FE;\n",
       "      border: none;\n",
       "      border-radius: 50%;\n",
       "      cursor: pointer;\n",
       "      display: none;\n",
       "      fill: #1967D2;\n",
       "      height: 32px;\n",
       "      padding: 0 0 0 0;\n",
       "      width: 32px;\n",
       "    }\n",
       "\n",
       "    .colab-df-convert:hover {\n",
       "      background-color: #E2EBFA;\n",
       "      box-shadow: 0px 1px 2px rgba(60, 64, 67, 0.3), 0px 1px 3px 1px rgba(60, 64, 67, 0.15);\n",
       "      fill: #174EA6;\n",
       "    }\n",
       "\n",
       "    .colab-df-buttons div {\n",
       "      margin-bottom: 4px;\n",
       "    }\n",
       "\n",
       "    [theme=dark] .colab-df-convert {\n",
       "      background-color: #3B4455;\n",
       "      fill: #D2E3FC;\n",
       "    }\n",
       "\n",
       "    [theme=dark] .colab-df-convert:hover {\n",
       "      background-color: #434B5C;\n",
       "      box-shadow: 0px 1px 3px 1px rgba(0, 0, 0, 0.15);\n",
       "      filter: drop-shadow(0px 1px 2px rgba(0, 0, 0, 0.3));\n",
       "      fill: #FFFFFF;\n",
       "    }\n",
       "  </style>\n",
       "\n",
       "    <script>\n",
       "      const buttonEl =\n",
       "        document.querySelector('#df-eb8f1b65-0c3a-4e73-8194-af9579d1a5e8 button.colab-df-convert');\n",
       "      buttonEl.style.display =\n",
       "        google.colab.kernel.accessAllowed ? 'block' : 'none';\n",
       "\n",
       "      async function convertToInteractive(key) {\n",
       "        const element = document.querySelector('#df-eb8f1b65-0c3a-4e73-8194-af9579d1a5e8');\n",
       "        const dataTable =\n",
       "          await google.colab.kernel.invokeFunction('convertToInteractive',\n",
       "                                                    [key], {});\n",
       "        if (!dataTable) return;\n",
       "\n",
       "        const docLinkHtml = 'Like what you see? Visit the ' +\n",
       "          '<a target=\"_blank\" href=https://colab.research.google.com/notebooks/data_table.ipynb>data table notebook</a>'\n",
       "          + ' to learn more about interactive tables.';\n",
       "        element.innerHTML = '';\n",
       "        dataTable['output_type'] = 'display_data';\n",
       "        await google.colab.output.renderOutput(dataTable, element);\n",
       "        const docLink = document.createElement('div');\n",
       "        docLink.innerHTML = docLinkHtml;\n",
       "        element.appendChild(docLink);\n",
       "      }\n",
       "    </script>\n",
       "  </div>\n",
       "\n",
       "\n",
       "<div id=\"df-b6edc142-1045-41bd-8297-dc543208fec8\">\n",
       "  <button class=\"colab-df-quickchart\" onclick=\"quickchart('df-b6edc142-1045-41bd-8297-dc543208fec8')\"\n",
       "            title=\"Suggest charts\"\n",
       "            style=\"display:none;\">\n",
       "\n",
       "<svg xmlns=\"http://www.w3.org/2000/svg\" height=\"24px\"viewBox=\"0 0 24 24\"\n",
       "     width=\"24px\">\n",
       "    <g>\n",
       "        <path d=\"M19 3H5c-1.1 0-2 .9-2 2v14c0 1.1.9 2 2 2h14c1.1 0 2-.9 2-2V5c0-1.1-.9-2-2-2zM9 17H7v-7h2v7zm4 0h-2V7h2v10zm4 0h-2v-4h2v4z\"/>\n",
       "    </g>\n",
       "</svg>\n",
       "  </button>\n",
       "\n",
       "<style>\n",
       "  .colab-df-quickchart {\n",
       "      --bg-color: #E8F0FE;\n",
       "      --fill-color: #1967D2;\n",
       "      --hover-bg-color: #E2EBFA;\n",
       "      --hover-fill-color: #174EA6;\n",
       "      --disabled-fill-color: #AAA;\n",
       "      --disabled-bg-color: #DDD;\n",
       "  }\n",
       "\n",
       "  [theme=dark] .colab-df-quickchart {\n",
       "      --bg-color: #3B4455;\n",
       "      --fill-color: #D2E3FC;\n",
       "      --hover-bg-color: #434B5C;\n",
       "      --hover-fill-color: #FFFFFF;\n",
       "      --disabled-bg-color: #3B4455;\n",
       "      --disabled-fill-color: #666;\n",
       "  }\n",
       "\n",
       "  .colab-df-quickchart {\n",
       "    background-color: var(--bg-color);\n",
       "    border: none;\n",
       "    border-radius: 50%;\n",
       "    cursor: pointer;\n",
       "    display: none;\n",
       "    fill: var(--fill-color);\n",
       "    height: 32px;\n",
       "    padding: 0;\n",
       "    width: 32px;\n",
       "  }\n",
       "\n",
       "  .colab-df-quickchart:hover {\n",
       "    background-color: var(--hover-bg-color);\n",
       "    box-shadow: 0 1px 2px rgba(60, 64, 67, 0.3), 0 1px 3px 1px rgba(60, 64, 67, 0.15);\n",
       "    fill: var(--button-hover-fill-color);\n",
       "  }\n",
       "\n",
       "  .colab-df-quickchart-complete:disabled,\n",
       "  .colab-df-quickchart-complete:disabled:hover {\n",
       "    background-color: var(--disabled-bg-color);\n",
       "    fill: var(--disabled-fill-color);\n",
       "    box-shadow: none;\n",
       "  }\n",
       "\n",
       "  .colab-df-spinner {\n",
       "    border: 2px solid var(--fill-color);\n",
       "    border-color: transparent;\n",
       "    border-bottom-color: var(--fill-color);\n",
       "    animation:\n",
       "      spin 1s steps(1) infinite;\n",
       "  }\n",
       "\n",
       "  @keyframes spin {\n",
       "    0% {\n",
       "      border-color: transparent;\n",
       "      border-bottom-color: var(--fill-color);\n",
       "      border-left-color: var(--fill-color);\n",
       "    }\n",
       "    20% {\n",
       "      border-color: transparent;\n",
       "      border-left-color: var(--fill-color);\n",
       "      border-top-color: var(--fill-color);\n",
       "    }\n",
       "    30% {\n",
       "      border-color: transparent;\n",
       "      border-left-color: var(--fill-color);\n",
       "      border-top-color: var(--fill-color);\n",
       "      border-right-color: var(--fill-color);\n",
       "    }\n",
       "    40% {\n",
       "      border-color: transparent;\n",
       "      border-right-color: var(--fill-color);\n",
       "      border-top-color: var(--fill-color);\n",
       "    }\n",
       "    60% {\n",
       "      border-color: transparent;\n",
       "      border-right-color: var(--fill-color);\n",
       "    }\n",
       "    80% {\n",
       "      border-color: transparent;\n",
       "      border-right-color: var(--fill-color);\n",
       "      border-bottom-color: var(--fill-color);\n",
       "    }\n",
       "    90% {\n",
       "      border-color: transparent;\n",
       "      border-bottom-color: var(--fill-color);\n",
       "    }\n",
       "  }\n",
       "</style>\n",
       "\n",
       "  <script>\n",
       "    async function quickchart(key) {\n",
       "      const quickchartButtonEl =\n",
       "        document.querySelector('#' + key + ' button');\n",
       "      quickchartButtonEl.disabled = true;  // To prevent multiple clicks.\n",
       "      quickchartButtonEl.classList.add('colab-df-spinner');\n",
       "      try {\n",
       "        const charts = await google.colab.kernel.invokeFunction(\n",
       "            'suggestCharts', [key], {});\n",
       "      } catch (error) {\n",
       "        console.error('Error during call to suggestCharts:', error);\n",
       "      }\n",
       "      quickchartButtonEl.classList.remove('colab-df-spinner');\n",
       "      quickchartButtonEl.classList.add('colab-df-quickchart-complete');\n",
       "    }\n",
       "    (() => {\n",
       "      let quickchartButtonEl =\n",
       "        document.querySelector('#df-b6edc142-1045-41bd-8297-dc543208fec8 button');\n",
       "      quickchartButtonEl.style.display =\n",
       "        google.colab.kernel.accessAllowed ? 'block' : 'none';\n",
       "    })();\n",
       "  </script>\n",
       "</div>\n",
       "    </div>\n",
       "  </div>\n"
      ],
      "text/plain": [
       "     Voltage(V)  Current(A)  Test_Time(s)  charging_stage\n",
       "0      3.627381    0.550319    150.093287               1\n",
       "5      3.752232    0.550138    300.169694               1\n",
       "11     3.794173    0.550138    480.260304               1\n",
       "16     3.799031    0.549958    630.336562               1\n",
       "23     3.811338    0.550138    840.442511               1\n",
       "..          ...         ...           ...             ...\n",
       "342    3.499454   -1.099536  12390.711885              -1\n",
       "347    3.472087   -1.099536  12540.787770              -1\n",
       "352    3.430146   -1.099536  12690.863698              -1\n",
       "357    3.323269   -1.099716  12840.939581              -1\n",
       "362    2.790992   -1.099536  12987.952847              -1\n",
       "\n",
       "[66 rows x 4 columns]"
      ]
     },
     "execution_count": 17,
     "metadata": {},
     "output_type": "execute_result"
    }
   ],
   "source": [
    "df[::5]"
   ]
  },
  {
   "cell_type": "code",
   "execution_count": null,
   "metadata": {
    "colab": {
     "base_uri": "https://localhost:8080/"
    },
    "id": "E-GUUYc1gg8d",
    "outputId": "1866a145-f4d3-4b96-fc0f-fd9f64c8e829"
   },
   "outputs": [
    {
     "name": "stdout",
     "output_type": "stream",
     "text": [
      "State of Health: 99 %\n"
     ]
    }
   ],
   "source": [
    "r = requests.post(f'{URL}/{END_POINT_SOH}', json=input_dict)\n",
    "soh = r.json()['SOH']\n",
    "print(f'State of Health: {int(soh*100)} %')"
   ]
  },
  {
   "cell_type": "code",
   "execution_count": null,
   "metadata": {
    "colab": {
     "base_uri": "https://localhost:8080/",
     "height": 466
    },
    "id": "waT2YjSdgg8d",
    "outputId": "59969af5-337b-4412-8401-09badba1067f"
   },
   "outputs": [
    {
     "data": {
      "text/plain": [
       "Text(0, 0.5, 'Voltage(V)')"
      ]
     },
     "execution_count": 12,
     "metadata": {},
     "output_type": "execute_result"
    },
    {
     "data": {
      "image/png": "[encoded data removed]",
      "text/plain": [
       "<Figure size 640x480 with 1 Axes>"
      ]
     },
     "metadata": {},
     "output_type": "display_data"
    }
   ],
   "source": [
    "plt.scatter(df['Test_Time(s)'], df['Voltage(V)'], c= df['charging_stage']);\n",
    "plt.xlabel('Time (s)')\n",
    "plt.ylabel('Voltage(V)')"
   ]
  },
  {
   "cell_type": "code",
   "execution_count": null,
   "metadata": {
    "id": "M6L5ltEZjlFc"
   },
   "outputs": [],
   "source": [
    "# input_dict"
   ]
  },
  {
   "cell_type": "code",
   "execution_count": null,
   "metadata": {
    "id": "-2n6ae_tjmLR"
   },
   "outputs": [],
   "source": []
  }
 ],
 "metadata": {
  "colab": {
   "provenance": []
  },
  "kernelspec": {
   "display_name": "aflow",
   "language": "python",
   "name": "python3"
  },
  "language_info": {
   "codemirror_mode": {
    "name": "ipython",
    "version": 3
   },
   "file_extension": ".py",
   "mimetype": "text/x-python",
   "name": "python",
   "nbconvert_exporter": "python",
   "pygments_lexer": "ipython3",
   "version": "3.10.4"
  }
 },
 "nbformat": 4,
 "nbformat_minor": 0
}